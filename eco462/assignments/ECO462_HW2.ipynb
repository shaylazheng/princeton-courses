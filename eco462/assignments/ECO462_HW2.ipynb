{
 "cells": [
  {
   "cell_type": "markdown",
   "id": "40cea9d2",
   "metadata": {},
   "source": [
    "# ECO462: Homework 2"
   ]
  },
  {
   "cell_type": "code",
   "execution_count": 8,
   "id": "91881813",
   "metadata": {},
   "outputs": [],
   "source": [
    "# Basic Python libraries\n",
    "import pandas as pd\n",
    "import numpy as np\n",
    "import matplotlib.pyplot as plt"
   ]
  },
  {
   "cell_type": "markdown",
   "id": "15878136",
   "metadata": {},
   "source": [
    "## Section A: Expected Returns, Standard Deviations and Correlations"
   ]
  },
  {
   "cell_type": "code",
   "execution_count": 1,
   "id": "105719cb",
   "metadata": {},
   "outputs": [
    {
     "ename": "NameError",
     "evalue": "name 'np' is not defined",
     "output_type": "error",
     "traceback": [
      "\u001b[0;31m---------------------------------------------------------------------------\u001b[0m",
      "\u001b[0;31mNameError\u001b[0m                                 Traceback (most recent call last)",
      "Cell \u001b[0;32mIn[1], line 5\u001b[0m\n\u001b[1;32m      3\u001b[0m assets \u001b[38;5;241m=\u001b[39m [\u001b[38;5;124m\"\u001b[39m\u001b[38;5;124mA1\u001b[39m\u001b[38;5;124m\"\u001b[39m, \u001b[38;5;124m\"\u001b[39m\u001b[38;5;124mA2\u001b[39m\u001b[38;5;124m\"\u001b[39m, \u001b[38;5;124m\"\u001b[39m\u001b[38;5;124mA3\u001b[39m\u001b[38;5;124m\"\u001b[39m]\n\u001b[1;32m      4\u001b[0m sigma \u001b[38;5;241m=\u001b[39m \u001b[38;5;124m\"\u001b[39m\u001b[38;5;130;01m\\u03C3\u001b[39;00m\u001b[38;5;124m\"\u001b[39m\n\u001b[0;32m----> 5\u001b[0m prob \u001b[38;5;241m=\u001b[39m np\u001b[38;5;241m.\u001b[39marray([\u001b[38;5;241m.35\u001b[39m,\u001b[38;5;241m.45\u001b[39m,\u001b[38;5;241m.20\u001b[39m])\n\u001b[1;32m      6\u001b[0m data \u001b[38;5;241m=\u001b[39m {\n\u001b[1;32m      7\u001b[0m   \u001b[38;5;124m\"\u001b[39m\u001b[38;5;124mS1\u001b[39m\u001b[38;5;124m\"\u001b[39m: [\u001b[38;5;241m.15\u001b[39m,\u001b[38;5;241m.06\u001b[39m,\u001b[38;5;241m.12\u001b[39m],\n\u001b[1;32m      8\u001b[0m   \u001b[38;5;124m\"\u001b[39m\u001b[38;5;124mS2\u001b[39m\u001b[38;5;124m\"\u001b[39m: [\u001b[38;5;241m.03\u001b[39m,\u001b[38;5;241m.12\u001b[39m,\u001b[38;5;241m.08\u001b[39m],\n\u001b[1;32m      9\u001b[0m   \u001b[38;5;124m\"\u001b[39m\u001b[38;5;124mS3\u001b[39m\u001b[38;5;124m\"\u001b[39m: [\u001b[38;5;241m-\u001b[39m\u001b[38;5;241m.05\u001b[39m,\u001b[38;5;241m-\u001b[39m\u001b[38;5;241m.14\u001b[39m,\u001b[38;5;241m-\u001b[39m\u001b[38;5;241m.10\u001b[39m]\n\u001b[1;32m     10\u001b[0m }\n\u001b[1;32m     11\u001b[0m sample_stats \u001b[38;5;241m=\u001b[39m {\n\u001b[1;32m     12\u001b[0m   \u001b[38;5;124m\"\u001b[39m\u001b[38;5;124mE[R]\u001b[39m\u001b[38;5;124m\"\u001b[39m: [],\n\u001b[1;32m     13\u001b[0m   sigma: []\n\u001b[1;32m     14\u001b[0m }\n",
      "\u001b[0;31mNameError\u001b[0m: name 'np' is not defined"
     ]
    }
   ],
   "source": [
    "# Question 1 & 2 Coding Portion\n",
    "\n",
    "assets = [\"A1\", \"A2\", \"A3\"]\n",
    "sigma = \"\\u03C3\"\n",
    "prob = np.array([.35,.45,.20])\n",
    "data = {\n",
    "  \"S1\": [.15,.06,.12],\n",
    "  \"S2\": [.03,.12,.08],\n",
    "  \"S3\": [-.05,-.14,-.10]\n",
    "}\n",
    "sample_stats = {\n",
    "  \"E[R]\": [],\n",
    "  sigma: []\n",
    "}\n",
    "\n",
    "df_scenerios = pd.DataFrame(data)\n",
    "\n",
    "def weighted_standard_deviation(prob: list, ev: list, df):\n",
    "  n_rows, n_cols = df.shape\n",
    "  \n",
    "  weighted_std = []\n",
    "  for j in range(n_rows):\n",
    "    var_j = 0\n",
    "    for i in range(n_cols):\n",
    "      var_j += prob[i]*((df.iloc[j,i]-ev[j]) ** 2)\n",
    "    weighted_std.append(np.sqrt(var_j))\n",
    "  return weighted_std\n",
    "\n",
    "for i in range(3):\n",
    "  sample_stats[\"E[R]\"].append(np.average(df_scenerios.iloc[i].to_numpy(),weights=prob))\n",
    "\n",
    "sample_stats[sigma] = weighted_standard_deviation(prob,sample_stats[\"E[R]\"],df_scenerios)\n",
    "\n",
    "df_scenerio_stats = pd.DataFrame(sample_stats, index=assets)\n",
    "print(df_scenerio_stats)"
   ]
  },
  {
   "cell_type": "code",
   "execution_count": null,
   "id": "ea4877be",
   "metadata": {},
   "outputs": [
    {
     "name": "stdout",
     "output_type": "stream",
     "text": [
      "Corr_A1,A2: 0.484424\n",
      "Corr_A1,A3: 0.843672\n",
      "Corr_A2,A3: 0.878357\n"
     ]
    },
    {
     "name": "stderr",
     "output_type": "stream",
     "text": [
      "/var/folders/jq/xrjztt6s5zb6d4kz4r8cxdm00000gn/T/ipykernel_87925/3447333243.py:6: FutureWarning: Series.__getitem__ treating keys as positions is deprecated. In a future version, integer keys will always be treated as labels (consistent with DataFrame behavior). To access a value by position, use `ser.iloc[pos]`\n",
      "  corr_list = [covar_matrix[0,1] / (df_scenerio_stats[sigma][0]*df_scenerio_stats[sigma][1]),\n",
      "/var/folders/jq/xrjztt6s5zb6d4kz4r8cxdm00000gn/T/ipykernel_87925/3447333243.py:7: FutureWarning: Series.__getitem__ treating keys as positions is deprecated. In a future version, integer keys will always be treated as labels (consistent with DataFrame behavior). To access a value by position, use `ser.iloc[pos]`\n",
      "  covar_matrix[0,2] / (df_scenerio_stats[sigma][0]*df_scenerio_stats[sigma][2]),\n",
      "/var/folders/jq/xrjztt6s5zb6d4kz4r8cxdm00000gn/T/ipykernel_87925/3447333243.py:8: FutureWarning: Series.__getitem__ treating keys as positions is deprecated. In a future version, integer keys will always be treated as labels (consistent with DataFrame behavior). To access a value by position, use `ser.iloc[pos]`\n",
      "  covar_matrix[1,2] / (df_scenerio_stats[sigma][1]*df_scenerio_stats[sigma][2])]\n"
     ]
    }
   ],
   "source": [
    "# Question 3 Coding Portion\n",
    "\n",
    "centered = (df_scenerios.sub(sample_stats[\"E[R]\"], axis=0).to_numpy())\n",
    "\n",
    "covar_matrix = centered @ np.diag(prob) @ centered.T\n",
    "corr_list = [covar_matrix[0,1] / (df_scenerio_stats[sigma][0]*df_scenerio_stats[sigma][1]), \n",
    "             covar_matrix[0,2] / (df_scenerio_stats[sigma][0]*df_scenerio_stats[sigma][2]), \n",
    "             covar_matrix[1,2] / (df_scenerio_stats[sigma][1]*df_scenerio_stats[sigma][2])]\n",
    "corr_list = [float(x) for x in corr_list]\n",
    "print(f\"Corr_A1,A2: {corr_list[0]:.6f}\\nCorr_A1,A3: {corr_list[1]:.6f}\\nCorr_A2,A3: {corr_list[2]:.6f}\")\n"
   ]
  },
  {
   "cell_type": "code",
   "execution_count": null,
   "id": "df29dfe5",
   "metadata": {},
   "outputs": [
    {
     "name": "stdout",
     "output_type": "stream",
     "text": [
      "Portfolio p's E[R]: 0.0532\n",
      "Portfolio q's E[R]: 0.0537\n",
      "Portfolio p's σ: 0.07991595585363415\n",
      "Portfolio q's σ: 0.07376523571439327\n",
      "Correlation: 0.9766481985230003\n"
     ]
    }
   ],
   "source": [
    "# Question 4 Coding Portion\n",
    "p_w = np.array([.2,.4,.4])\n",
    "q_w = np.array([.5,.3,.2])\n",
    "\n",
    "p_ev = np.average(df_scenerio_stats[\"E[R]\"].to_numpy(), weights=p_w)\n",
    "q_ev = np.average(df_scenerio_stats[\"E[R]\"].to_numpy(), weights=q_w)\n",
    "\n",
    "p_var = np.sqrt(p_w.T @ covar_matrix @ p_w)\n",
    "q_var = np.sqrt(q_w.T @ covar_matrix @ q_w)\n",
    "\n",
    "print(f\"Portfolio p's E[R]: {p_ev}\")\n",
    "print(f\"Portfolio q's E[R]: {q_ev}\")\n",
    "\n",
    "print(f\"Portfolio p's {sigma}: {p_var}\")\n",
    "print(f\"Portfolio q's {sigma}: {q_var}\")\n",
    "\n",
    "p_scenerios =  p_w @ df_scenerios\n",
    "p_centered = (p_scenerios - p_ev).to_numpy()\n",
    "\n",
    "q_scenerios = q_w @ df_scenerios\n",
    "q_centered = (q_scenerios - q_ev).to_numpy()\n",
    "\n",
    "pq_covar = p_centered.T @ np.diag(prob) @ q_centered\n",
    "print(f\"Correlation: {pq_covar / (p_var * q_var)}\")"
   ]
  },
  {
   "cell_type": "markdown",
   "id": "af1b73ea",
   "metadata": {},
   "source": [
    "### Question 5 Written Portion\n",
    "Mean-variance domination dictates that portfolio q dominates portfolio p, since portfolio q's expected return is **higher** than portfolio p's and portfolio q's variance is **lower** than portfolio p's. "
   ]
  },
  {
   "cell_type": "markdown",
   "id": "9e7feac9",
   "metadata": {},
   "source": [
    "## Section B: Rates of Returns on Portfolios"
   ]
  },
  {
   "cell_type": "code",
   "execution_count": 12,
   "id": "b3bf2acd",
   "metadata": {},
   "outputs": [
    {
     "name": "stdout",
     "output_type": "stream",
     "text": [
      "              E[R]         σ\n",
      "Portfolio 1  0.063  0.173170\n",
      "Portfolio 2  0.063  0.125122\n"
     ]
    }
   ],
   "source": [
    "# Question 1 Coding Portion\n",
    "\n",
    "AB_weights = [.35,.65]\n",
    "AB_corr = [.6,-.4]\n",
    "AB_stats = {\n",
    "  \"E[R]\": [.05,.07],\n",
    "  sigma: [.15,.21],\n",
    "}\n",
    "\n",
    "df_AB_stats = pd.DataFrame(AB_stats)\n",
    "\n",
    "covar_1 = AB_stats[sigma][0] * AB_stats[sigma][1] * AB_corr[0]\n",
    "covar_2 = AB_stats[sigma][0] * AB_stats[sigma][1] * AB_corr[1]\n",
    "\n",
    "# Increase modularity at some point\n",
    "portfolios = {\n",
    "  \"E[R]\": [np.average(AB_stats[\"E[R]\"], weights = AB_weights),np.average(AB_stats[\"E[R]\"], weights = AB_weights)],\n",
    "  sigma: [np.sqrt(((.35 ** 2) * (AB_stats[sigma][0]) ** 2) + ((.65 ** 2) * (AB_stats[sigma][1]) ** 2) + (2 * (.35) * (.65) * (covar_1))),np.sqrt(((.35 ** 2) * (AB_stats[sigma][0]) ** 2) + ((.65 ** 2) * (AB_stats[sigma][1]) ** 2) + (2 * (.35) * (.65) * (covar_2)))]\n",
    "}\n",
    "df_portfolios = pd.DataFrame(portfolios, index = [\"Portfolio 1\", \"Portfolio 2\"])\n",
    "print(df_portfolios)"
   ]
  },
  {
   "cell_type": "code",
   "execution_count": 13,
   "id": "3e23acbc",
   "metadata": {},
   "outputs": [
    {
     "name": "stdout",
     "output_type": "stream",
     "text": [
      "The porfolio of stocks with no variance and a correlation of -1 is:\n",
      "\n",
      "Weight of Stock A: 0.5833\n",
      "Weight of Stock B: 0.4167\n",
      "\n",
      "The porfolio of stocks with no variance and a correlation of 1 is:\n",
      "\n",
      "Weight of Stock A: 3.5000\n",
      "Weight of Stock B: -2.5000\n"
     ]
    }
   ],
   "source": [
    "# Question 2 Coding Portion\n",
    "\n",
    "# See attached written portion at the beginning of the PSET for the derivation of this equation\n",
    "\n",
    "var_A = AB_stats[sigma][0] ** 2\n",
    "var_B = AB_stats[sigma][1] ** 2\n",
    "\n",
    "weight_coefficient_neg = [var_B,\n",
    "                      2* ((AB_stats[sigma][0] * AB_stats[sigma][1] * -1) - (var_B)),\n",
    "                      ((var_A) + (var_B) - (2 * AB_stats[sigma][0] * AB_stats[sigma][1] * -1))]\n",
    "p1 = np.polynomial.Polynomial(weight_coefficient_neg)\n",
    "roots1 = p1.roots()\n",
    "print(f\"The porfolio of stocks with no variance and a correlation of -1 is:\\n\\nWeight of Stock A: {roots1[0]:.4f}\\nWeight of Stock B: {1-roots1[0]:.4f}\\n\")\n",
    "\n",
    "weight_coefficient_pos = [var_B,\n",
    "                      2* ((AB_stats[sigma][0] * AB_stats[sigma][1]) - (var_B)),\n",
    "                      ((var_A) + (var_B) - (2 * AB_stats[sigma][0] * AB_stats[sigma][1]))]\n",
    "p2 = np.polynomial.Polynomial(weight_coefficient_pos)\n",
    "roots2 = p2.roots()\n",
    "\n",
    "print(f\"The porfolio of stocks with no variance and a correlation of 1 is:\\n\\nWeight of Stock A: {roots2[0]:.4f}\\nWeight of Stock B: {1-roots2[0]:.4f}\")"
   ]
  },
  {
   "cell_type": "markdown",
   "id": "d8345d24",
   "metadata": {},
   "source": [
    "### Question 2 Written Portion\n",
    "\n",
    "Essentially, the second portfolio can be the same given the condition that shorting is allowed. \\nIn that case, you would short a proportional weight of 2.5 of Stock B and buy a weight of 3.5 in Stock A, to achieve the desired portfolio. If short selling were not allowed, then it would be impossible to create this portfolio since the weights are derived from a perfect square and therefore only a single weight with the given constraints exists."
   ]
  },
  {
   "cell_type": "code",
   "execution_count": 14,
   "id": "72cb4d6b",
   "metadata": {},
   "outputs": [
    {
     "name": "stdout",
     "output_type": "stream",
     "text": [
      "For E[R] = 0.04, the STD is: 0.2483\n",
      "For E[R] = 0.05, the STD is: 0.1500\n",
      "For E[R] = 0.06, the STD is: 0.1290\n",
      "For E[R] = 0.07, the STD is: 0.2100\n",
      "For E[R] = 0.08, the STD is: 0.3238\n",
      "For E[R] = 0.09, the STD is: 0.4460\n",
      "For E[R] = 0.1, the STD is: 0.5712\n"
     ]
    },
    {
     "data": {
      "image/png": "[encoded data removed]",
      "text/plain": [
       "<Figure size 800x600 with 1 Axes>"
      ]
     },
     "metadata": {},
     "output_type": "display_data"
    }
   ],
   "source": [
    "# Question 3 Coding Portion\n",
    "\n",
    "pairs = []\n",
    "evs = [.04,.05,.06,.07,.08,.09,.10]\n",
    "A_ev = AB_stats[\"E[R]\"][0]\n",
    "B_ev = AB_stats[\"E[R]\"][1]\n",
    "\n",
    "def weight_std(expected_values:list):\n",
    "  for i in range(len(expected_values)):\n",
    "    w = -((B_ev-expected_values[i])/(B_ev-A_ev))\n",
    "    std = np.sqrt((var_A+var_B)*(w**2) + 2 * w * var_B + var_B)\n",
    "\n",
    "    print(f\"For E[R] = {expected_values[i]}, the STD is: {std:.4f}\")\n",
    "\n",
    "    pairs.append([expected_values[i],std])\n",
    "\n",
    "weight_std(evs)\n",
    "\n",
    "y, x = zip(*pairs)\n",
    "\n",
    "plt.figure(figsize=(8,6))\n",
    "plt.plot(x, y,'o', markersize=8, color='blue', label='Data Points')\n",
    "plt.xlabel(\"Standard Deviation\")\n",
    "plt.ylabel(\"Expected Value\")\n",
    "plt.title(\"Expected Value x Standard Deviation Dot Plot\")\n",
    "plt.grid(True)\n",
    "plt.show()\n"
   ]
  },
  {
   "cell_type": "markdown",
   "id": "11417593",
   "metadata": {},
   "source": [
    "### Question 4 Written Portion\n",
    "\n",
    "Consider the case that asset A and asset C are perfectly correlated. Then, it follows that both asset A and asset C can be uncorrelated with asset B whilst having a mutual non-zero correlation (in fact, where the correlation between asset A and asset C is 1)."
   ]
  },
  {
   "cell_type": "markdown",
   "id": "3a5f76cf",
   "metadata": {},
   "source": [
    "## Section C: Asset Allocation\n",
    "\n"
   ]
  },
  {
   "cell_type": "markdown",
   "id": "5b4dc7ed",
   "metadata": {},
   "source": [
    "### Question 1 Written Portion\n",
    "\n",
    "The reasoning is poor because Investor X is foregoing the diversification effect that would allow her to achieve the same level of returns as investing solely in Asset A while having lower risk (as measured by standard deviation). Notice how the market portfolio bar chart shows that there is some amount of Asset B and a larger amount of Asset A. The market portfolio is the optimal proportion of the constituent assets as to maximize expected return and minimize variance, such that a higher return could be achieved simply by levering the portfolio.\n",
    "\n",
    "The diversification effect is also visible by the parabolic / hyperbolic shape of the efficient fronter, indicating that the leftmost and highest point on the efficient frontier is solely Asset A. However, if you trace the CAL according to the tangency portfolio, you can achieve a higher level of return for the same risk.\n",
    "\n",
    "However, if Investor X chooses not to invest in the risk free asset, it is plausible, given the avaliability of short selling, to only invest in Asset A and Asset B, which is seen by the optimal portfolio on the diagram.\n",
    "\n",
    "See the attached Excel sheet for the relevant diagram."
   ]
  },
  {
   "cell_type": "markdown",
   "id": "d779d395",
   "metadata": {},
   "source": [
    "### Question 2 Written Portion\n",
    "\n",
    "The statement is false. Even though their levels of risk aversion differ, the market porfolio has a set distribution and proportion of Asset A and Asset B that should be fixed for all investors, regardless of risk aversion level. The market portfolio is determined to be the best ratio of assets in terms of balancing expected return and standard deviation, and theoretically all investors should utilize the weights provided by the tagency portfolio indicated by the point of tangency between the capital allocation line and the efficient frontier. Rather, the only thing that should feasibly change is the proportion of the market porfolio as a whole they invest in compared to the provided risk-free asset."
   ]
  },
  {
   "cell_type": "markdown",
   "id": "b08ecbd9",
   "metadata": {},
   "source": [
    "## Section D: More Asset Allocation"
   ]
  },
  {
   "cell_type": "markdown",
   "id": "07d85ff7",
   "metadata": {},
   "source": [
    "### Question 1 Written Portion\n",
    "\n",
    "Generally, γ tends to increase with age and tends to decrease relative to financial portfolio size, as intuitive when considering prospect theory and how the incremental increase of wealth matters less and therefore one's willingness to risk wealth increase (aligned with a decrease in risk aversion or γ).\n",
    "\n",
    "The scoring worksheet properly reflects this as the calculations for the \"age score\" proportion of the risk metric decreases as you get older, through differing calculations per age range. Additionally, the score you put based on the size of your portfolio asl changes the risk metric as a higher financial portfolio size indicates increases the score. The worksheet seems to be calculating a \"riskiness\" metric rather than a risk aversion metric as scoring higher in the stocks category leads to a greater recommendation to hold a higher proportion of stocks in comparison to bonds, a safer alternative.\n",
    "\n",
    "See the general movements of the indifference curves written above in the written section."
   ]
  },
  {
   "cell_type": "markdown",
   "id": "c7ebae32",
   "metadata": {},
   "source": [
    "### Question 2 Written Portion\n",
    "\n",
    "The question 1D attempts to assess is your perspective on the economy and what stage of the business cycle it is currently in. Weak most likely corresponds to a recession, average is perhaps general growth or stability, and strong is when the economy is rapidly growing or nearing a peak. Hence, based on the graph, it seems that the question does not properly prepare you for the anticipated changes in asset prices during each business cycle. For instance, if the economy is nearing its peak, it seems to indicate that you should purchase more stocks since observing the economy to be strong leads to a higher \"riskiness\" metric that leads to a greater position in stocks. However, this is a poor decision because for multiple proceeding stages of the business cycle, your stock price will fall in price and you would have been better of investing in a different asset. "
   ]
  },
  {
   "cell_type": "markdown",
   "id": "76538d1f",
   "metadata": {},
   "source": [
    "### Question 3 Written Portion\n",
    "\n",
    "The question 2D is better suited for bonds, as the distribution of bonds lines up better with the suggestions from the worksheet. When you feel that the economy is not strong (i.e. is in a recession), it recommends you not to purchase bonds, which is in line with the diagram because it shows the bond premium peaking whereas you would want to purchase the asset prior to the peak so as to watch your asset grow to a higher point. Similarly, when the economy peaks, you should purchase bonds because then during the recession, the premia for bonds will grow and your assets will appreciate. Hence, in terms of bonds, the worksheet does a better job at aligning itself with the past trends of varying business cycles."
   ]
  },
  {
   "cell_type": "markdown",
   "id": "96ec9a4e",
   "metadata": {},
   "source": [
    "### Question 4 Written Portion\n",
    "\n",
    "\"What stage in the business cycle do you believe the economy to currently be in?\"\n",
    "\n",
    "**Selections**: Recession, Expansion, Peak, Trough\n",
    "\n",
    "For 1D the peak should have a higher value (i.e. higher recommendation to have a higher weight in stocks) and steadily decline as it reaches the trough. For 2D the peak should have a lower value and the scores should trend in the opposite direction as the scores asigned to each selection for the stocks question."
   ]
  },
  {
   "cell_type": "markdown",
   "id": "0dce5748",
   "metadata": {},
   "source": [
    "## Section E: Efficient Frontier Computation"
   ]
  },
  {
   "cell_type": "markdown",
   "id": "b7ebce79",
   "metadata": {},
   "source": [
    "### Question 1\n",
    "\n",
    "Refer to the worksheet for the efficient frontier and the CML with the five stocks from the first PSET"
   ]
  },
  {
   "cell_type": "markdown",
   "id": "23610002",
   "metadata": {},
   "source": [
    "### Question 2 Written Portion\n",
    "\n",
    "Increasing the correlation between assets tends to compress the efficient frontier, reducing diversification benefits and decreasing the slope of the Capital Market Line (CML). Conversely, introducing strong negative correlations between certain assets can shift the efficient frontier leftward, lowering portfolio risk for a given return. In scenarios where asset correlations are low or near zero, the CML generally steepens, reflecting higher potential risk-adjusted returns. Additionally, assets with higher risk levels tend to receive smaller allocations in the optimal portfolio due to their disproportionate contribution to total portfolio variance."
   ]
  },
  {
   "cell_type": "markdown",
   "id": "db2e91c0",
   "metadata": {},
   "source": [
    "### Question 3 Written Portion\n",
    "\n",
    "All the stocks lie southeast of the efficient frontier, indicating that there is a higher expected return for the given variance, or a lower variance for any expected return through combining in the assets in an efficient manner.\n",
    "\n",
    "After adding the S&P500D, it's clear that it is the single investment that is closest to the efficient frontier, specifically towards the point of the minimum variance portfolio. Essentially, that means that the S&P500D has a better mean-variance trade off and that it does a good job of approximating an excellent portfolio. \n",
    "\n",
    "The implications for portfolio managers are immense, as it indicates that they are able to simply invest in the S&P500D and achieve returns that are comparable to a portfolio on the efficient frontier. In a practical, non-theoretical sense, this avoids a majority of transaction fees and active management fees that would eat into profits, thereby providing an excellent choice for investors and passive managers and putting pressure on active portfolio managers who be exceptional in some regard to beat the S&P500D."
   ]
  },
  {
   "cell_type": "markdown",
   "id": "78156d75",
   "metadata": {},
   "source": [
    "### <u>*Statement of Collaboration (including ChatGPT)*</u>\n",
    "\n",
    "I collaborated with **Rosalia Mwidege** and **Theodore Ouyang**. Additionally, **ChatGPT** was used to debug any error-prone code and find the proper Excel-equivalent Python functions and libraries to properly execute the solutions to the problems, in conjunction with the hints listed on the problem set.\n",
    "\n",
    "### <u>*Honor Code*</u>\n",
    "This assignment: represents my own work in accordance with University regulations and class policy."
   ]
  }
 ],
 "metadata": {
  "kernelspec": {
   "display_name": "base",
   "language": "python",
   "name": "python3"
  },
  "language_info": {
   "codemirror_mode": {
    "name": "ipython",
    "version": 3
   },
   "file_extension": ".py",
   "mimetype": "text/x-python",
   "name": "python",
   "nbconvert_exporter": "python",
   "pygments_lexer": "ipython3",
   "version": "3.13.5"
  }
 },
 "nbformat": 4,
 "nbformat_minor": 5
}
