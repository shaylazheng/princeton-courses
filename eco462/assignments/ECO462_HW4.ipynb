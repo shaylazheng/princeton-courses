{
 "cells": [
  {
   "cell_type": "markdown",
   "id": "ad594204",
   "metadata": {},
   "source": [
    "# ECO462: Homework 4"
   ]
  },
  {
   "cell_type": "code",
   "execution_count": 136,
   "id": "f755ec06",
   "metadata": {},
   "outputs": [],
   "source": [
    "# Import basic Python libraries\n",
    "import pandas as pd \n",
    "import numpy as np \n",
    "from scipy import stats\n",
    "import statsmodels.api as sm"
   ]
  },
  {
   "cell_type": "markdown",
   "id": "ae1258bc",
   "metadata": {},
   "source": [
    "## Question 1: Properties of Fama-French’s Five Factors"
   ]
  },
  {
   "cell_type": "code",
   "execution_count": 137,
   "id": "5e12ed71",
   "metadata": {},
   "outputs": [
    {
     "name": "stdout",
     "output_type": "stream",
     "text": [
      "\n",
      "================== Summary Statistics ==================\n",
      "\n",
      "           Mkt-RF         SMB         HML         RMW         CMA          RF\n",
      "count  733.000000  733.000000  733.000000  733.000000  733.000000  733.000000\n",
      "mean     0.579468    0.204843    0.287285    0.288595    0.260628    0.003635\n",
      "std      4.486843    3.048178    3.000065    2.219564    2.075952    0.002644\n",
      "min    -23.240000  -15.320000  -13.880000  -18.650000   -7.200000    0.000000\n",
      "25%     -1.970000   -1.560000   -1.400000   -0.780000   -1.020000    0.001400\n",
      "50%      0.930000    0.070000    0.220000    0.260000    0.090000    0.003800\n",
      "75%      3.440000    2.010000    1.750000    1.320000    1.470000    0.005000\n",
      "max     16.100000   18.280000   12.800000   13.070000    9.070000    0.013500\n",
      "\n",
      "================== Correlation Matrix ==================\n",
      "\n",
      "          Mkt-RF       SMB       HML       RMW       CMA        RF\n",
      "Mkt-RF  1.000000  0.279300 -0.204133 -0.186581 -0.361344 -0.083120\n",
      "SMB     0.279300  1.000000  0.001820 -0.352176 -0.085131 -0.035799\n",
      "HML    -0.204133  0.001820  1.000000  0.083357  0.685399  0.066428\n",
      "RMW    -0.186581 -0.352176  0.083357  1.000000 -0.014207 -0.009698\n",
      "CMA    -0.361344 -0.085131  0.685399 -0.014207  1.000000  0.052096\n",
      "RF     -0.083120 -0.035799  0.066428 -0.009698  0.052096  1.000000\n"
     ]
    }
   ],
   "source": [
    "# Question 1a Coding Portion\n",
    "\n",
    "df_factors = pd.read_excel(\"../data/HW4 Data.xlsx\", \"Factors\")\n",
    "df_factors[\"Date\"] = pd.to_datetime(df_factors[\"Date\"])\n",
    "df_factors = df_factors.set_index(\"Date\")\n",
    "print(\"\\n================== Summary Statistics ==================\\n\")\n",
    "print(df_factors.describe())\n",
    "print(\"\\n================== Correlation Matrix ==================\\n\")\n",
    "print(df_factors.corr())"
   ]
  },
  {
   "cell_type": "markdown",
   "id": "f8036e6d",
   "metadata": {},
   "source": [
    "### Question 1b Written Portion\n",
    "\n",
    "**Question:** *Let’s focus on the High-Minus-Low (HML) factor for a moment. How would you\n",
    "construct a mimicking portfolio that replicates it? Why would you expect this\n",
    "portfolio to move one-to-one with HML and not with the other factors?*\n",
    "\n",
    "**Answer**: A mimicking portfolio for the High-Minus-Low (HML) factor, as defined in the Fama–French factor framework, is constructed by taking long and short positions in portfolios sorted by book-to-market ratios. Specifically, assets are typically grouped into three quantiles (high, medium, and low) based on their book-to-market values. The HML factor is then formed by going long high book-to-market (“value”) stocks and short low book-to-market (“growth”) stocks, generally with equal weights across each leg.\n",
    "\n",
    "In the broader factor-modeling framework, mimicking portfolios are designed to isolate exposure to a single systematic factor. In the first-pass regression, each asset’s factor loadings (betas) are estimated by regressing excess returns on the factor returns. Suppose there are $n$ assets and $k$ factors, yielding a beta matrix $\\beta \\in \\mathbb{R}^{n\\times k}$. The goal is to find portfolio weights $w \\in \\mathbb{R}^{n}$ such that:\n",
    "$$B^{\\intercal}w = e_j$$\n",
    "where $e_j$ is the unit vector corresponding to the HML factor (or any arbitrary target factor at index $j$), implying the portfolio has beta 1 with respect to HML and 0 with respect to all other factors.\n",
    "\n",
    "Given that $n>k$ and the column of $B$ are linearly independent, there exists at least one $w$ that satisfies the system, ensuring that the mimicking portfolio's returns move 1-for-1 with HML and are orthogonal to the other factors.The mimicking portfolio is explicitly constructed to neutralize any exposure to all non-HML factors, thus any variation can be solely attributed to the HML factor and therefore does not covary with any other factor."
   ]
  },
  {
   "cell_type": "code",
   "execution_count": 138,
   "id": "073ce58f",
   "metadata": {},
   "outputs": [
    {
     "name": "stdout",
     "output_type": "stream",
     "text": [
      "\n",
      "================== T-Test Results ==================\n",
      "t-statistic: 2.59\n",
      "p-value: 0.01\n"
     ]
    }
   ],
   "source": [
    "## Question 1c Coding Portion\n",
    "\n",
    "t_statistic, p_value = stats.ttest_1samp(df_factors[\"HML\"], 0)\n",
    "print(\"\\n================== T-Test Results ==================\")\n",
    "print(f\"t-statistic: {t_statistic:.2f}\\np-value: {p_value:.2f}\")"
   ]
  },
  {
   "cell_type": "markdown",
   "id": "ca0c03bc",
   "metadata": {},
   "source": [
    "### Question 1c Written Portion\n",
    "\n",
    "**Question**: Based on the moments of the HML factor, run a simple test to determine whether\n",
    "high book-to-market firms have, on average, higher returns than low book-to-\n",
    "market firms during the sample period. Hint: How can you test whether the\n",
    "HML factor’s mean is statistically different from zero?\n",
    "\n",
    "To test whether high book-to-market firms earn higher returns on average compared to low book-to-market firms, we perform a one-sample t-test on the HML factor's mean. The null hypothesis is that the HML factor's mean is equal to 0 ($H_0: \\mu _{HML} = 0$), implying no difference in return on average between the high and low book-to-market firms. The alternative hypothesis is that high book-to-market firms earn higher average returns ($H_A:\\mu _{HML} > 0$).\n",
    "\n",
    "Using a significance level of 5% ($\\alpha = 0.05$), the t-test compares the sample mean of the HML factor to zero. The resulting p-value of **0.01** is below the significance threshold, providing strong evidence to reject the null hypothesis and accept the alternative hypothesis. The positive t-statistic further indicates the mean of the HML factor is greater than 0.\n",
    "\n",
    "Therefore, we can conclude that during the sample period, high book-to-market firms earned significantly higher average returns than low book-to-market firms."
   ]
  },
  {
   "cell_type": "markdown",
   "id": "3d369ee7",
   "metadata": {},
   "source": [
    "## Question 2: Regression Using Fama-French's Three Factors"
   ]
  },
  {
   "cell_type": "code",
   "execution_count": 141,
   "id": "cb01acd2",
   "metadata": {},
   "outputs": [
    {
     "name": "stdout",
     "output_type": "stream",
     "text": [
      "          Alpha  p-value_Alpha  Beta_MKT  t-Beta_MKT  p_Beta_MKT  Beta_SMB  \\\n",
      "Stock                                                                        \n",
      "AEP    0.000483        0.79217  0.005847    13.51708         0.0 -0.003207   \n",
      "KMB    0.000436        0.83002  0.007251    15.14206         0.0 -0.003790   \n",
      "BMY    0.003823        0.08370  0.008349    16.02675         0.0 -0.003609   \n",
      "XOM    0.001423        0.38664  0.007662    19.76416         0.0 -0.002654   \n",
      "IBM    0.001007        0.63876  0.008973    17.73273         0.0 -0.001787   \n",
      "\n",
      "       t-Beta_SMB  p_Beta_SMB  Beta_HML  t-Beta_HML  p_Beta_HML        R²  \n",
      "Stock                                                                      \n",
      "AEP      -5.16880     0.00000  0.005363     8.42684     0.00000  0.237145  \n",
      "KMB      -5.51796     0.00000  0.002353     3.34014     0.00088  0.248561  \n",
      "BMY      -4.82991     0.00000 -0.000986    -1.28627     0.19878  0.286456  \n",
      "XOM      -4.77326     0.00000  0.003746     6.56787     0.00000  0.362594  \n",
      "IBM      -2.46228     0.01405 -0.001819    -2.44387     0.01478  0.342226  \n"
     ]
    }
   ],
   "source": [
    "# Question 2a Coding Portion\n",
    "\n",
    "factors = df_factors.columns.tolist()\n",
    "\n",
    "df_stock_returns = pd.read_excel(\"../data/HW4 Data.xlsx\", \"Stock Returns\")\n",
    "df_stock_returns[\"DATE\"] = pd.to_datetime(df_stock_returns[\"DATE\"])\n",
    "df_stock_returns = df_stock_returns.set_index(\"DATE\")\n",
    "\n",
    "tickers = df_stock_returns.columns.tolist()\n",
    "df_results = pd.DataFrame()\n",
    "\n",
    "def factor_model(t, factors):\n",
    "  df_asset = pd.DataFrame(index=df_stock_returns.index)\n",
    "  df_asset[t+\"_Excess_Returns\"] = df_stock_returns[t] - df_factors[\"RF\"]\n",
    "  for factor in factors[:-3]:\n",
    "    df_asset[t+\"_\"+factor] = df_factors[factor]\n",
    "  return df_asset\n",
    "\n",
    "for t in tickers:\n",
    "  df_stock = factor_model(t, factors)\n",
    "\n",
    "  X = df_stock.iloc[:, 1:]\n",
    "  X = sm.add_constant(X)\n",
    "  y = df_stock[t+\"_Excess_Returns\"]\n",
    "\n",
    "  model = sm.OLS(y, X).fit()\n",
    "\n",
    "  t_beta_MKT = model.t_test(t+\"_\"+\"Mkt-RF\")\n",
    "  t_beta_SMB = model.t_test(t+\"_\"+\"SMB\")\n",
    "  t_beta_HML = model.t_test(t+\"_\"+\"HML\")\n",
    "\n",
    "  row = pd.DataFrame({\n",
    "        \"Stock\": [t],\n",
    "        \"Alpha\": [model.params[\"const\"]],\n",
    "        \"p-value_Alpha\": [round(float(model.pvalues[\"const\"]),5)],\n",
    "        \"Beta_MKT\": [model.params[t+\"_\"+\"Mkt-RF\"]],\n",
    "        \"t-Beta_MKT\": [round(float(t_beta_MKT.tvalue.item()),5)],\n",
    "        \"p_Beta_MKT\": [round(float(t_beta_MKT.pvalue.item()),5)],\n",
    "        \"Beta_SMB\": [model.params[t+\"_\"+\"SMB\"]],\n",
    "        \"t-Beta_SMB\": [round(float(t_beta_SMB.tvalue.item()),5)],\n",
    "        \"p_Beta_SMB\": [round(float(t_beta_SMB.pvalue.item()),5)],\n",
    "        \"Beta_HML\": [model.params[t+\"_\"+\"HML\"]],\n",
    "        \"t-Beta_HML\": [round(float(t_beta_HML.tvalue.item()),5)],\n",
    "        \"p_Beta_HML\": [round(float(t_beta_HML.pvalue.item()),5)],\n",
    "        \"R²\": model.rsquared\n",
    "    })\n",
    "  \n",
    "  df_results = pd.concat([df_results,row])\n",
    "\n",
    "df_results = df_results.set_index(\"Stock\")\n",
    "print(df_results)"
   ]
  },
  {
   "cell_type": "markdown",
   "id": "d5db83c4",
   "metadata": {},
   "source": [
    "### Question 2a Written Portion\n",
    "\n",
    "**Question:** Report your estimates for all factor loadings from the first-pass regression.\n",
    "Before running the regressions, you need to construct excess returns on each of\n",
    "the five stocks. Interpret the results. Are the factor loadings estimated precisely?\n",
    "\n",
    "To assess the precision of the estimated factor loadings from the first-pass Fama-French 3-factor regressions, we perform a one-sample t-test on each coefficient for each stock ($b_i, s_i, h_i$). Formally, the null hypothesis is for each factor loading is:\n",
    "$$H_0:\\beta _{factor}=0$$\n",
    "and the alternative hypothesis is:\n",
    "$$H_A:\\beta _{factor} \\neq 0$$\n",
    "This test evaluates whether the estimated factor loading is statistically distinguishable from zero at a conventional significance level. In the context of factor models, a rejection of the null indicates that the factor contributes meaningfully to explaining the excess return of the stock.\n",
    "\n",
    "Using the same significance threshold of $\\alpha = 0.05$, the estimated factor loadings for the market (*Beta_MKT*) and size (*Beta_SML*) are statistically significant for all give stocks, indicated by a p-values below 0.05, confirming that these factor exposures are estimated with high precision. For the value factor (*Beta_HML*), however, the factor loading was not statistically significant for BMY ($p=0.19878$), suggesting that its exposure to HML\n",
    "\n",
    "we observe that the estimates for the factor loadings found above in the columns \"Beta_MKT\", \"Beta_SMB\", and \"Beta_HML\" are mostly all precise. Specifically, the resulting p-values for the factor loadings for the MKT factor and the SMB factor are both \"precise\" by being below the as shown by the sigificance of 0.05. However, the \"Beta_HML\" factor is not statistically significant for BMY and perhaps indicates a less precise factor loading. Overall, since a single asset is does not determine the validity of the entire factor model and the factor loadings, the factor can still be considered reasonably precise considering the other p-values for the four other stocks are below the threshold value of 0.05.\n",
    "\n",
    "However, the direction of the factor's returns is interesting, where many of the stocks are not long some of the factors. For instance, a negative t-statistics indicates that the stocks are short the SMB factor. Additionally, there is a negative t-statistic for some stocks regarding the HML factor, indicating some shorting of the factor. On the other hand, each stock is observed to have a long position in the market."
   ]
  },
  {
   "cell_type": "markdown",
   "id": "cb56abbf",
   "metadata": {},
   "source": []
  },
  {
   "cell_type": "code",
   "execution_count": null,
   "id": "aeb4c441",
   "metadata": {},
   "outputs": [],
   "source": []
  },
  {
   "cell_type": "markdown",
   "id": "ec408d11",
   "metadata": {},
   "source": [
    "## Question 3: Regression Using Fama-French's Five Factors"
   ]
  },
  {
   "cell_type": "markdown",
   "id": "043cdd08",
   "metadata": {},
   "source": [
    "***Statement of Collaboration (including ChatGPT)***: I collaborated with **Rosalia Mwidege** and **Theodore Ouyang**. Additionally, **ChatGPT** was used to debug any error-prone code and find the proper Excel-equivalent Python functions and libraries to properly execute the solutions to the problems, in conjunction with the hints listed on the problem set.\n",
    "\n",
    "***Honor Code***: This assignment represents my own work in accordance with University regulations and class policy."
   ]
  }
 ],
 "metadata": {
  "kernelspec": {
   "display_name": "base",
   "language": "python",
   "name": "python3"
  },
  "language_info": {
   "codemirror_mode": {
    "name": "ipython",
    "version": 3
   },
   "file_extension": ".py",
   "mimetype": "text/x-python",
   "name": "python",
   "nbconvert_exporter": "python",
   "pygments_lexer": "ipython3",
   "version": "3.13.5"
  }
 },
 "nbformat": 4,
 "nbformat_minor": 5
}
