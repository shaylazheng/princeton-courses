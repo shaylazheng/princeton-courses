{
 "cells": [
  {
   "cell_type": "markdown",
   "metadata": {
    "id": "RJ0Dp7-kSiV1",
    "vscode": {
     "languageId": "raw"
    }
   },
   "source": [
    "# ORF307: Homework 1"
   ]
  },
  {
   "cell_type": "markdown",
   "metadata": {
    "id": "-LQBYiSmSrYQ"
   },
   "source": [
    "## Q1: Interpolation of Rational Functions"
   ]
  },
  {
   "cell_type": "markdown",
   "metadata": {
    "id": "VwwFZ9GuSyV_"
   },
   "source": [
    "The problem is listed above in the written portion."
   ]
  },
  {
   "cell_type": "markdown",
   "metadata": {
    "id": "ZSCmF1KaS5Ll"
   },
   "source": [
    "## Q2: Python Timing Test for Linear Equations"
   ]
  },
  {
   "cell_type": "markdown",
   "metadata": {
    "id": "j3iMyVNWTCa3"
   },
   "source": [
    "(a) Determine how long it takes for your computer to solve a system $Ax = b$ of $n=2000$ linear equations in $n=2000$ variables (with invertible coefficient matrix) using the Python's inverse function.  You may use the following code to get you started.  \n",
    "\n",
    "ANSWER: The time necessary to solve is shown in the output, and the relevant code is shown below."
   ]
  },
  {
   "cell_type": "code",
   "execution_count": 21,
   "metadata": {},
   "outputs": [
    {
     "name": "stdout",
     "output_type": "stream",
     "text": [
      "Time to solve (a): 0.13060617446899414 secs\n",
      "Matrix: [-0.0062985   0.00547733 -0.01039056 ...  0.00531197  0.01678735\n",
      " -0.00886947]\n"
     ]
    }
   ],
   "source": [
    "import numpy as np\n",
    "from time import time\n",
    "\n",
    "N = 2000 # Scalar\n",
    "A = 1 + np.random.normal(size=(N,N))\n",
    "b = np.ones(N)\n",
    "\n",
    "t_start_1 = time()\n",
    "Ainv = np.linalg.inv(A)\n",
    "\n",
    "# ------- START -------\n",
    "\n",
    "result = Ainv.dot(b)\n",
    "\n",
    "# ------- END -------\n",
    "\n",
    "elapsed_time_1 = time() - t_start_1\n",
    "print('Time to solve (a):', elapsed_time_1, 'secs')\n",
    "print('Matrix:', result)"
   ]
  },
  {
   "cell_type": "markdown",
   "metadata": {},
   "source": [
    "(b) Python is rather clever about how it solves linear systems.  Use the following function to solve the same linear system and determine how long it takes your computer to solve it.  Verify that you get the same solution as from part (a).\n",
    "\n",
    "ANSWER: The solution is the same as part (a), and the relevant code is listed below."
   ]
  },
  {
   "cell_type": "code",
   "execution_count": 22,
   "metadata": {},
   "outputs": [
    {
     "name": "stdout",
     "output_type": "stream",
     "text": [
      "Time to solve (b): 0.15297770500183105 secs\n",
      "Matrix: [-0.0062985   0.00547733 -0.01039056 ...  0.00531197  0.01678735\n",
      " -0.00886947]\n"
     ]
    }
   ],
   "source": [
    "# ------- START -------\n",
    "\n",
    "t_start_2 = time()\n",
    "\n",
    "# ------- END -------\n",
    "\n",
    "x = np.linalg.solve(A,b)\n",
    "\n",
    "# ------- START -------\n",
    "\n",
    "elapsed_time_2 = time() - t_start_2\n",
    "print('Time to solve (b):', elapsed_time_2, 'secs')\n",
    "print('Matrix:', x)\n",
    "\n",
    "# ------- END -------\n"
   ]
  },
  {
   "cell_type": "markdown",
   "metadata": {},
   "source": [
    "(c) Now we will use $LU$ factorization to solve the linear system.  Use the following lines to first factorize the matrix $A$ as $A = PLU$ where $P$ is a permutation matrix, $L$ is a lower triangular matrix and $U$ is a upper triangular matrix. The idea is that we have $Ax = PLUx = b$.  For convenience we have coded the functions `forward_substitution` and `backward_substitution` for you. A property of any permutation matrix $P$ is that $P^TP = I$.  Use this property to solve the same linear system as in the previous parts and determine how long your computer takes.  Verify that you get the same solution as from parts (a) and (b). \n",
    "\n",
    "**Note** Your implementation is not going to be the fastest one, but it will work well. If written in a lower level language such as C or C++, it can sometimes be faster. That's part of the tricks inside numpy's `np.linalg.solve` function."
   ]
  },
  {
   "cell_type": "code",
   "execution_count": 23,
   "metadata": {},
   "outputs": [],
   "source": [
    "def forward_substitution(L, b):\n",
    "    n = L.shape[0]\n",
    "    x = np.zeros(n)\n",
    "    for i in range(n):\n",
    "        x[i] = (b[i] - L[i,:i] @ x[:i])/L[i, i]\n",
    "    return x\n",
    "\n",
    "def backward_substitution(U, b):\n",
    "    n = U.shape[0]\n",
    "    x = np.zeros(n)\n",
    "    for i in reversed(range(n)):\n",
    "        x[i] = (b[i] - U[i,i+1:] @ x[i+1:])/U[i, i]\n",
    "    return x"
   ]
  },
  {
   "cell_type": "code",
   "execution_count": null,
   "metadata": {},
   "outputs": [],
   "source": [
    "def solve_via_lu(P, L, U, b):\n",
    "    # ------- START -------\n",
    "    y_1 = P.T.dot(b)\n",
    "    y_2 = forward_substitution(L,y_1)\n",
    "    x = backward_substitution(U,y_2)\n",
    "\n",
    "    # ------- END -------\n",
    "    \n",
    "    return x"
   ]
  },
  {
   "cell_type": "code",
   "execution_count": 36,
   "metadata": {},
   "outputs": [
    {
     "name": "stdout",
     "output_type": "stream",
     "text": [
      "Time to solve (c): 0.07439613342285156 secs\n",
      "Matrix: [-0.0062985   0.00547733 -0.01039056 ...  0.00531197  0.01678735\n",
      " -0.00886947]\n"
     ]
    }
   ],
   "source": [
    "from scipy.linalg import lu\n",
    "# ...\n",
    "t_start_3 = time()\n",
    "P, L, U = lu(A)  # Factor matrix A as A = PLU\n",
    "x_lu = solve_via_lu(P, L, U, b)  # Solve via LU decomposition\n",
    "# ...\n",
    "elapsed_time_3 = time() - t_start_3\n",
    "\n",
    "# ------- START -------\n",
    "\n",
    "print('Time to solve (c):', elapsed_time_3, 'secs')\n",
    "print('Matrix:', x_lu)\n",
    "\n",
    "# ------- END -------"
   ]
  },
  {
   "cell_type": "markdown",
   "metadata": {},
   "source": [
    "(d) Can you explain why the times differ by so much between parts (a) and (b)? How does the time in (c) compare? "
   ]
  },
  {
   "cell_type": "markdown",
   "metadata": {},
   "source": [
    "While the times required to run the code in parts (a) and (b) are quite negiligible, most likely due to the specific system operations and cache mechanics, part (b) should take less time to solve in theory. This is based on the fact that the code to calculate the inverse matrix is more computational expensive, compared to the efficient method that Python uses in their solve method, which utilizes LU factorization and is therefore comparable to part (c). \n",
    "\n",
    "Again theoretically, while part (c) happends to take less time to solve than part (b), it should take slightly more due to running on the Python level, compared to lower level languages or methods that Python itself uses. "
   ]
  },
  {
   "cell_type": "markdown",
   "metadata": {
    "id": "sUNwapIFTJKg"
   },
   "source": [
    "## Q3: True and False\n",
    "The problem is listed above in the written portion."
   ]
  }
 ],
 "metadata": {
  "colab": {
   "name": "ORF307_HW1.ipynb",
   "provenance": []
  },
  "kernelspec": {
   "display_name": "base",
   "language": "python",
   "name": "python3"
  },
  "language_info": {
   "codemirror_mode": {
    "name": "ipython",
    "version": 3
   },
   "file_extension": ".py",
   "mimetype": "text/x-python",
   "name": "python",
   "nbconvert_exporter": "python",
   "pygments_lexer": "ipython3",
   "version": "3.13.5"
  }
 },
 "nbformat": 4,
 "nbformat_minor": 4
}
