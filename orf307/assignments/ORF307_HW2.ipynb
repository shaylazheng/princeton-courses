{
 "cells": [
  {
   "cell_type": "markdown",
   "metadata": {
    "id": "RJ0Dp7-kSiV1"
   },
   "source": [
    "# ORF307: Homework 2"
   ]
  },
  {
   "cell_type": "markdown",
   "metadata": {
    "id": "-LQBYiSmSrYQ"
   },
   "source": [
    "## Q1: Least Angle Property and Orthogonality Principle of Least Squares"
   ]
  },
  {
   "cell_type": "markdown",
   "metadata": {},
   "source": [
    "The problem is listed above in the written portion."
   ]
  },
  {
   "cell_type": "markdown",
   "metadata": {},
   "source": [
    "## Q2: Matrix Inversion Lemma"
   ]
  },
  {
   "cell_type": "markdown",
   "metadata": {},
   "source": [
    "The problem is listed above in the written portion."
   ]
  },
  {
   "cell_type": "markdown",
   "metadata": {},
   "source": [
    "## Q3: Moore's Law"
   ]
  },
  {
   "cell_type": "code",
   "execution_count": 35,
   "metadata": {},
   "outputs": [],
   "source": [
    "# Import required packages for coding exercises\n",
    "import numpy as np\n",
    "import pandas as pd\n",
    "import matplotlib.pyplot as plt\n",
    "from numpy.linalg import cholesky as llt\n",
    "seed = 1\n",
    "np.random.seed(seed) # We use np.random.seed for reproducible results"
   ]
  },
  {
   "cell_type": "markdown",
   "metadata": {},
   "source": [
    "For convenience we have included the following function `lstsq` that solves the least squares problem as we have seen in class returning `x` and factorization `L`."
   ]
  },
  {
   "cell_type": "code",
   "execution_count": 36,
   "metadata": {},
   "outputs": [],
   "source": [
    "def forward_substitution(L, b):\n",
    "    n = L.shape[0]\n",
    "    x = np.zeros(n)\n",
    "    for i in range(n):\n",
    "        x[i] = (b[i] - L[i,:i] @ x[:i])/L[i, i]\n",
    "    return x\n",
    "\n",
    "def backward_substitution(U, b):\n",
    "    n = U.shape[0]\n",
    "    x = np.zeros(n)\n",
    "    for i in reversed(range(n)):\n",
    "        x[i] = (b[i] - U[i,i+1:] @ x[i+1:])/U[i, i]\n",
    "    return x\n",
    "\n",
    "def lstsq(A, b):\n",
    "    M = A.T.dot(A)  # Form Gram matrix\n",
    "    q = A.T.dot(b)  # Form right hand side\n",
    "    L = llt(M)      # Factor\n",
    "    x = forward_substitution(L, q)\n",
    "    x = backward_substitution(L.T, x)\n",
    "    return x, L"
   ]
  },
  {
   "cell_type": "markdown",
   "metadata": {},
   "source": [
    "The figure and table below show the number of transistors $N$ in $13$ microprocessors, and the year of their introduction."
   ]
  },
  {
   "cell_type": "code",
   "execution_count": 37,
   "metadata": {},
   "outputs": [
    {
     "data": {
      "text/html": [
       "<div>\n",
       "<style scoped>\n",
       "    .dataframe tbody tr th:only-of-type {\n",
       "        vertical-align: middle;\n",
       "    }\n",
       "\n",
       "    .dataframe tbody tr th {\n",
       "        vertical-align: top;\n",
       "    }\n",
       "\n",
       "    .dataframe thead th {\n",
       "        text-align: right;\n",
       "    }\n",
       "</style>\n",
       "<table border=\"1\" class=\"dataframe\">\n",
       "  <thead>\n",
       "    <tr style=\"text-align: right;\">\n",
       "      <th></th>\n",
       "      <th>t</th>\n",
       "      <th>N</th>\n",
       "    </tr>\n",
       "  </thead>\n",
       "  <tbody>\n",
       "    <tr>\n",
       "      <th>0</th>\n",
       "      <td>1971</td>\n",
       "      <td>2250</td>\n",
       "    </tr>\n",
       "    <tr>\n",
       "      <th>1</th>\n",
       "      <td>1972</td>\n",
       "      <td>2500</td>\n",
       "    </tr>\n",
       "    <tr>\n",
       "      <th>2</th>\n",
       "      <td>1974</td>\n",
       "      <td>5000</td>\n",
       "    </tr>\n",
       "    <tr>\n",
       "      <th>3</th>\n",
       "      <td>1978</td>\n",
       "      <td>29000</td>\n",
       "    </tr>\n",
       "    <tr>\n",
       "      <th>4</th>\n",
       "      <td>1982</td>\n",
       "      <td>120000</td>\n",
       "    </tr>\n",
       "    <tr>\n",
       "      <th>5</th>\n",
       "      <td>1985</td>\n",
       "      <td>275000</td>\n",
       "    </tr>\n",
       "    <tr>\n",
       "      <th>6</th>\n",
       "      <td>1989</td>\n",
       "      <td>1180000</td>\n",
       "    </tr>\n",
       "    <tr>\n",
       "      <th>7</th>\n",
       "      <td>1993</td>\n",
       "      <td>3100000</td>\n",
       "    </tr>\n",
       "    <tr>\n",
       "      <th>8</th>\n",
       "      <td>1997</td>\n",
       "      <td>7500000</td>\n",
       "    </tr>\n",
       "    <tr>\n",
       "      <th>9</th>\n",
       "      <td>1999</td>\n",
       "      <td>24000000</td>\n",
       "    </tr>\n",
       "    <tr>\n",
       "      <th>10</th>\n",
       "      <td>2000</td>\n",
       "      <td>42000000</td>\n",
       "    </tr>\n",
       "    <tr>\n",
       "      <th>11</th>\n",
       "      <td>2002</td>\n",
       "      <td>220000000</td>\n",
       "    </tr>\n",
       "    <tr>\n",
       "      <th>12</th>\n",
       "      <td>2003</td>\n",
       "      <td>410000000</td>\n",
       "    </tr>\n",
       "  </tbody>\n",
       "</table>\n",
       "</div>"
      ],
      "text/plain": [
       "       t          N\n",
       "0   1971       2250\n",
       "1   1972       2500\n",
       "2   1974       5000\n",
       "3   1978      29000\n",
       "4   1982     120000\n",
       "5   1985     275000\n",
       "6   1989    1180000\n",
       "7   1993    3100000\n",
       "8   1997    7500000\n",
       "9   1999   24000000\n",
       "10  2000   42000000\n",
       "11  2002  220000000\n",
       "12  2003  410000000"
      ]
     },
     "execution_count": 37,
     "metadata": {},
     "output_type": "execute_result"
    }
   ],
   "source": [
    "# Data\n",
    "t = np.array([1971, 1972, 1974, 1978, 1982, 1985, 1989, 1993, 1997, 1999, 2000, 2002, 2003])\n",
    "N = np.array([2250, 2500, 5000, 29000, 120000, 275000, 1180000, 3100000, 7500000, 24000000, 42000000, \\\n",
    "              220000000, 410000000])\n",
    "\n",
    "# Show data as dataframe\n",
    "# NB. Jupyter makes a nice table out of a pandas dataframe\n",
    "pd.DataFrame({'t': t, \n",
    "              'N': N})"
   ]
  },
  {
   "cell_type": "code",
   "execution_count": 38,
   "metadata": {},
   "outputs": [
    {
     "data": {
      "image/png": "[encoded data removed]",
      "text/plain": [
       "<Figure size 640x480 with 1 Axes>"
      ]
     },
     "metadata": {},
     "output_type": "display_data"
    }
   ],
   "source": [
    "fig, ax = plt.subplots(1,1)\n",
    "ax.scatter(t, N, marker='o', color='k', facecolors='none')\n",
    "ax.set_xlabel(r'Year')\n",
    "ax.set_ylabel(r'Transistors')\n",
    "ax.set_yscale('log')\n",
    "ax.grid('on')"
   ]
  },
  {
   "cell_type": "markdown",
   "metadata": {},
   "source": [
    "The plot gives the number of transistors on a logarithmic scale. Find the least squares\n",
    "straight-line fit of the data using the model\n",
    "$$\n",
    "\\log_{10} N \\approx \\theta_1 + \\theta_2(t - 1970),\n",
    "$$\n",
    "where $t$ is the year and $N$ is the number of transistors. Note that $\\theta_1$ is the model's\n",
    "prediction of the $\\log$ of the number of transistors in 1970, and $10^{\\theta_2}$ gives the model's\n",
    "prediction of the fractional increase in number of transistors per year.\n",
    "\n"
   ]
  },
  {
   "cell_type": "markdown",
   "metadata": {},
   "source": [
    "(a) Find the coefficients $\\theta_1$ and $\\theta_2$ that minimize the mean square error on the data using the `lstsq` function above. Give\n",
    "the mean square error on the data. Plot the model you find along with the data points."
   ]
  },
  {
   "cell_type": "code",
   "execution_count": 43,
   "metadata": {},
   "outputs": [
    {
     "name": "stdout",
     "output_type": "stream",
     "text": [
      "θ_1 = 3.125592633829349   θ_2 = 0.15401817984382243\n",
      "MSE:  0.041240140870557045\n"
     ]
    },
    {
     "data": {
      "image/png": "[encoded data removed]",
      "text/plain": [
       "<Figure size 640x480 with 1 Axes>"
      ]
     },
     "metadata": {},
     "output_type": "display_data"
    }
   ],
   "source": [
    "# Question 3 Part (a) Coding Portion\n",
    "\n",
    "# Coefficient Calculations\n",
    "y = np.log10(N)\n",
    "A = np.column_stack([np.ones_like(t), t - 1970])\n",
    "theta, L = lstsq(A, y)\n",
    "theta1, theta2 = theta\n",
    "print(\"θ_1 =\", theta1, \"  θ_2 =\", theta2)\n",
    "\n",
    "# MSE Calculation\n",
    "y_pred = A @ theta\n",
    "mse = np.mean((y - y_pred)**2)\n",
    "print(\"MSE: \", mse)\n",
    "\n",
    "# Plot the model\n",
    "\n",
    "fig, ax = plt.subplots(1,1)\n",
    "ax.scatter(t, N, marker='o', color='k', facecolors='none')\n",
    "tt = np.linspace(1970, 2005, 200)\n",
    "ax.plot(tt, 10**(theta1 + theta2*(tt - 1970)), 'r-')\n",
    "ax.set_xlabel(r'Year')\n",
    "ax.set_ylabel(r'Transistors')\n",
    "ax.set_yscale('log')\n",
    "ax.grid('on')"
   ]
  },
  {
   "cell_type": "markdown",
   "metadata": {},
   "source": [
    "(b) The first point-contact transistor was invented in 1947. Now let $N=1$, where $\\log_{10}N=0$, and then find $t$. See if your model fits the historical data well."
   ]
  },
  {
   "cell_type": "code",
   "execution_count": 40,
   "metadata": {},
   "outputs": [
    {
     "name": "stdout",
     "output_type": "stream",
     "text": [
      "Predicted year when N=1: 1949.7063396217332\n"
     ]
    }
   ],
   "source": [
    "# Question 3 Part (b) Coding Portion\n",
    "\n",
    "# N = 1\n",
    "t_one = 1970 - theta1/theta2\n",
    "print(\"Predicted year when N=1:\", t_one)"
   ]
  },
  {
   "cell_type": "markdown",
   "metadata": {},
   "source": [
    "**Answer:** Our model fits the historical data reasonably well, with a predicted year of 1950 compared to the actual year of 1947."
   ]
  },
  {
   "cell_type": "markdown",
   "metadata": {},
   "source": [
    "(c) Use your model to predict the number of transistors in a microprocessor introduced\n",
    "in 2015. Compare the prediction to the IBM Z13 microprocessor, released in 2015, which has around $4\\times 10^9$ transistors."
   ]
  },
  {
   "cell_type": "code",
   "execution_count": 41,
   "metadata": {},
   "outputs": [
    {
     "name": "stdout",
     "output_type": "stream",
     "text": [
      "Predicted N in 2015: 1.14e+10\n",
      "IBM Z13 actual: 4.00e+09\n",
      "Difference: 7.39e+09\n"
     ]
    }
   ],
   "source": [
    "# Question 3 Part (c) Coding Portion\n",
    "\n",
    "# N in 2025\n",
    "logN_2015 = theta1 + theta2*(2015 - 1970)\n",
    "N_2015 = 10**logN_2015\n",
    "IBM_Z13 = 4e9\n",
    "diff = N_2015 - IBM_Z13\n",
    "print(f\"Predicted N in 2015: {N_2015:.2e}\")\n",
    "print(f\"IBM Z13 actual: {IBM_Z13:.2e}\")\n",
    "print(f\"Difference: {diff:.2e}\")"
   ]
  },
  {
   "cell_type": "markdown",
   "metadata": {},
   "source": [
    "**Answer:** The prediction, compared to part (b), is wildly off with a magnitude of 10. Essentially, the results indicate that extrapolation far from the trained data set leads to inaccurate, unreliable results."
   ]
  },
  {
   "cell_type": "markdown",
   "metadata": {},
   "source": [
    "(d) Compare your result with Moore's law, which states that the number of transistors per integrated circuit roughly doubles every one and a half to two years."
   ]
  },
  {
   "cell_type": "code",
   "execution_count": 42,
   "metadata": {},
   "outputs": [
    {
     "name": "stdout",
     "output_type": "stream",
     "text": [
      "Annual growth factor: 1.4256672716937808\n",
      "Doubling time (years): 1.9545094999124892\n"
     ]
    }
   ],
   "source": [
    "# Question 3 Part (d) Coding Portion\n",
    "\n",
    "# Comparisons\n",
    "g = 10**theta2\n",
    "tau = np.log10(2)/theta2\n",
    "print(\"Annual growth factor:\", g)\n",
    "print(\"Doubling time (years):\", tau)"
   ]
  },
  {
   "cell_type": "markdown",
   "metadata": {},
   "source": [
    "**Answer:** The model has a doubling time of 1.95 years and an annual growth factor of 1.43, which is aligned with Moore's law that states the number of transistors per integrated circuit roughly doubles, as 1.95 is between 1.5 and 2 years."
   ]
  }
 ],
 "metadata": {
  "colab": {
   "name": "ORF307_HW1.ipynb",
   "provenance": []
  },
  "kernelspec": {
   "display_name": "base",
   "language": "python",
   "name": "python3"
  },
  "language_info": {
   "codemirror_mode": {
    "name": "ipython",
    "version": 3
   },
   "file_extension": ".py",
   "mimetype": "text/x-python",
   "name": "python",
   "nbconvert_exporter": "python",
   "pygments_lexer": "ipython3",
   "version": "3.13.5"
  },
  "toc": {
   "base_numbering": 1,
   "nav_menu": {},
   "number_sections": true,
   "sideBar": true,
   "skip_h1_title": false,
   "title_cell": "Table of Contents",
   "title_sidebar": "Contents",
   "toc_cell": false,
   "toc_position": {},
   "toc_section_display": true,
   "toc_window_display": false
  }
 },
 "nbformat": 4,
 "nbformat_minor": 4
}
